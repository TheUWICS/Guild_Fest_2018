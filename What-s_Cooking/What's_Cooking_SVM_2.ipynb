{
 "cells": [
  {
   "cell_type": "code",
   "execution_count": 11,
   "metadata": {
    "collapsed": true
   },
   "outputs": [],
   "source": [
    "import numpy as np\n",
    "import pandas as pd\n",
    "import os\n",
    "from sklearn.multiclass import OneVsRestClassifier\n",
    "from sklearn.svm import SVC\n",
    "from sklearn.model_selection import cross_val_score\n",
    "from sklearn.feature_extraction.text import TfidfVectorizer\n",
    "from nltk.tokenize import TweetTokenizer\n",
    "%matplotlib inline"
   ]
  },
  {
   "cell_type": "code",
   "execution_count": 12,
   "metadata": {
    "collapsed": true
   },
   "outputs": [],
   "source": [
    "tokenize = TweetTokenizer().tokenize"
   ]
  },
  {
   "cell_type": "code",
   "execution_count": 2,
   "metadata": {
    "scrolled": true
   },
   "outputs": [
    {
     "name": "stdout",
     "output_type": "stream",
     "text": [
      "['submission3.csv', 'Cooking.ipynb', 'test.json', 'submission2.csv', 'test.json.zip', 'submissionSVM.csv', 'sample_submission.csv.zip', \"What's_Cooking_SVM.ipynb\", 'submission.csv', 'train.json', \"What's_Cooking_SVM_2.ipynb\", 'sample_submission.csv', 'Cooking-4.ipynb', 'train.json.zip', 'values.csv', '.ipynb_checkpoints', 'Cooking_blog.ipynb', 'Cooking-2.ipynb']\n",
      "       cuisine     id                                        ingredients\n",
      "0        greek  10259  [romaine lettuce, black olives, grape tomatoes...\n",
      "1  southern_us  25693  [plain flour, ground pepper, salt, tomatoes, g...\n",
      "2     filipino  20130  [eggs, pepper, salt, mayonaise, cooking oil, g...\n",
      "3       indian  22213                [water, vegetable oil, wheat, salt]\n",
      "4       indian  13162  [black pepper, shallots, cornflour, cayenne pe...\n",
      "0          greek\n",
      "1    southern_us\n",
      "2       filipino\n",
      "3         indian\n",
      "4         indian\n",
      "Name: cuisine, dtype: object\n",
      "0    18009\n",
      "1    28583\n",
      "2    41580\n",
      "3    29752\n",
      "4    35687\n",
      "Name: id, dtype: int64\n"
     ]
    }
   ],
   "source": [
    "print(os.listdir())\n",
    "train = pd.read_json('train.json')\n",
    "test = pd.read_json('test.json')\n",
    "\n",
    "print(train.head())\n",
    "\n",
    "ytrain = train['cuisine']\n",
    "print(ytrain.head(5))\n",
    "\n",
    "Id = test['id']\n",
    "print(Id.head(5))"
   ]
  },
  {
   "cell_type": "code",
   "execution_count": 3,
   "metadata": {},
   "outputs": [
    {
     "data": {
      "text/plain": [
       "<matplotlib.axes._subplots.AxesSubplot at 0x7f926235d550>"
      ]
     },
     "execution_count": 3,
     "metadata": {},
     "output_type": "execute_result"
    },
    {
     "data": {
      "image/png": "[encoded data removed]",
      "text/plain": [
       "<matplotlib.figure.Figure at 0x7f92623acf28>"
      ]
     },
     "metadata": {},
     "output_type": "display_data"
    }
   ],
   "source": [
    "train['cuisine'].value_counts().plot(kind='bar')"
   ]
  },
  {
   "cell_type": "code",
   "execution_count": 4,
   "metadata": {
    "collapsed": true
   },
   "outputs": [],
   "source": [
    "def arraytotext(records):\n",
    "    return [\" \".join(record).lower() for record in records]"
   ]
  },
  {
   "cell_type": "code",
   "execution_count": 5,
   "metadata": {
    "collapsed": true
   },
   "outputs": [],
   "source": [
    "tfidf = TfidfVectorizer(binary=True)"
   ]
  },
  {
   "cell_type": "code",
   "execution_count": 8,
   "metadata": {},
   "outputs": [
    {
     "name": "stdout",
     "output_type": "stream",
     "text": [
      "['romaine lettuce', 'black olives', 'grape tomatoes', 'garlic', 'pepper', 'purple onion', 'seasoning', 'garbanzo beans', 'feta cheese crumbles']\n",
      "['r o m a i n e   l e t t u c e', 'b l a c k   o l i v e s', 'g r a p e   t o m a t o e s', 'g a r l i c', 'p e p p e r', 'p u r p l e   o n i o n', 's e a s o n i n g', 'g a r b a n z o   b e a n s', 'f e t a   c h e e s e   c r u m b l e s']\n"
     ]
    }
   ],
   "source": [
    "train2 = train\n",
    "print((train2['ingredients'][0]))\n",
    "print(arraytotext(train2['ingredients'][0]))"
   ]
  },
  {
   "cell_type": "code",
   "execution_count": 15,
   "metadata": {
    "collapsed": true
   },
   "outputs": [],
   "source": [
    "train_features = tfidf.fit_transform(arraytotext(train['ingredients']))\n",
    "test_features = tfidf.transform(arraytotext(test['ingredients']))"
   ]
  },
  {
   "cell_type": "code",
   "execution_count": 7,
   "metadata": {
    "collapsed": true
   },
   "outputs": [],
   "source": [
    "classifier = SVC(C=200, kernel='rbf', degree=3,gamma=1, \\\n",
    "                 coef0=1, shrinking=True,tol=0.001, probability=False,\\\n",
    "                 cache_size=200,class_weight=None, verbose=False,\\\n",
    "                 max_iter=-1,decision_function_shape=None,\\\n",
    "                 random_state=None)"
   ]
  },
  {
   "cell_type": "code",
   "execution_count": 8,
   "metadata": {},
   "outputs": [
    {
     "name": "stdout",
     "output_type": "stream",
     "text": [
      "Accuracy: 0.79 (+/- 0.00)\n"
     ]
    }
   ],
   "source": [
    "model = OneVsRestClassifier(classifier)\n",
    "scores = cross_val_score(classifier,train_features, ytrain, cv=2)\n",
    "print (\"Accuracy: %0.2f (+/- %0.2f)\" % \\\n",
    "       (scores.mean(), scores.std() * 2))"
   ]
  },
  {
   "cell_type": "code",
   "execution_count": 9,
   "metadata": {},
   "outputs": [
    {
     "data": {
      "text/plain": [
       "OneVsRestClassifier(estimator=SVC(C=200, cache_size=200, class_weight=None, coef0=1,\n",
       "  decision_function_shape=None, degree=3, gamma=1, kernel='rbf',\n",
       "  max_iter=-1, probability=False, random_state=None, shrinking=True,\n",
       "  tol=0.001, verbose=False),\n",
       "          n_jobs=1)"
      ]
     },
     "execution_count": 9,
     "metadata": {},
     "output_type": "execute_result"
    }
   ],
   "source": [
    "model.fit(train_features, ytrain)"
   ]
  },
  {
   "cell_type": "code",
   "execution_count": 10,
   "metadata": {},
   "outputs": [
    {
     "name": "stdout",
     "output_type": "stream",
     "text": [
      "['irish' 'southern_us' 'italian' ... 'italian' 'southern_us' 'mexican']\n"
     ]
    }
   ],
   "source": [
    "predictions = model.predict(test_features)\n",
    "print(predictions)"
   ]
  },
  {
   "cell_type": "code",
   "execution_count": 12,
   "metadata": {
    "collapsed": true
   },
   "outputs": [],
   "source": [
    "submission = pd.DataFrame()\n",
    "submission['id'] = Id\n",
    "submission['cuisine'] = predictions\n",
    "submission.to_csv('submissionSVM2.csv', index=False)\n",
    "#Score: 0.821"
   ]
  }
 ],
 "metadata": {
  "kernelspec": {
   "display_name": "Python 3",
   "language": "python",
   "name": "python3"
  },
  "language_info": {
   "codemirror_mode": {
    "name": "ipython",
    "version": 3
   },
   "file_extension": ".py",
   "mimetype": "text/x-python",
   "name": "python",
   "nbconvert_exporter": "python",
   "pygments_lexer": "ipython3",
   "version": "3.6.3"
  }
 },
 "nbformat": 4,
 "nbformat_minor": 2
}
